{
  "nbformat": 4,
  "nbformat_minor": 0,
  "metadata": {
    "colab": {
      "name": "Calculatlator.ipynb",
      "provenance": [],
      "authorship_tag": "ABX9TyNgAH8BvB0JShNR4HotMqKM",
      "include_colab_link": true
    },
    "kernelspec": {
      "name": "python3",
      "display_name": "Python 3"
    }
  },
  "cells": [
    {
      "cell_type": "markdown",
      "metadata": {
        "id": "view-in-github",
        "colab_type": "text"
      },
      "source": [
        "<a href=\"https://colab.research.google.com/github/mosi15/Assignment-on-class-and-object-week8-DIU/blob/main/Calculatlator.ipynb\" target=\"_parent\"><img src=\"https://colab.research.google.com/assets/colab-badge.svg\" alt=\"Open In Colab\"/></a>"
      ]
    },
    {
      "cell_type": "code",
      "metadata": {
        "id": "B6rknLVRMOf3",
        "outputId": "a2f4f123-bfc9-4777-c1ea-295c8fa0eb45",
        "colab": {
          "base_uri": "https://localhost:8080/"
        }
      },
      "source": [
        "class Calculator:\n",
        "    def add(self,num1,num2):\n",
        "        return num1+num2\n",
        "    def sub(self,num1,num2):\n",
        "        return num1-num2\n",
        "    def mul(self,num1,num2):\n",
        "        return num1*num2\n",
        "    def div(self,num1,num2):\n",
        "        try:\n",
        "            num1/num2\n",
        "        except:\n",
        "            print(\"Division not possible\")\n",
        "obj = Calculator()\n",
        "num1 = float(input(\"Enter First Number: \"))\n",
        "num2 = float(input(\"Enter Second Number: \"))\n",
        "\n",
        "print(\"( + , - , * , / )\")\n",
        "opt = input(\"Choose a Operation: \")\n",
        "if opt=='+':\n",
        "    result = obj.add(num1,num2)\n",
        "elif opt=='-':\n",
        "    result = obj.sub(num1,num2)\n",
        "elif opt=='*':\n",
        "    result = obj.mul(num1,num2)\n",
        "elif opt=='/':\n",
        "    result = obj.div(num1,num2)\n",
        "\n",
        "print(\"result = \",result)"
      ],
      "execution_count": 1,
      "outputs": [
        {
          "output_type": "stream",
          "text": [
            "Enter First Number: 7\n",
            "Enter Second Number: 7\n",
            "( + , - , * , / )\n",
            "Choose a Operation: +\n",
            "result =  14.0\n"
          ],
          "name": "stdout"
        }
      ]
    }
  ]
}